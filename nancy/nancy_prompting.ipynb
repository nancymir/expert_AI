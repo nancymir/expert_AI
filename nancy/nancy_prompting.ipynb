{
 "cells": [
  {
   "cell_type": "markdown",
   "id": "47179d09-d091-4617-b721-3d6c1b6c27f6",
   "metadata": {},
   "source": [
    "## Is AI an expert in everything?"
   ]
  },
  {
   "cell_type": "markdown",
   "id": "1d863aa2-c1b2-4ec9-8ed5-1ad5f83ec225",
   "metadata": {},
   "source": [
    "### Setup"
   ]
  },
  {
   "cell_type": "code",
   "execution_count": 1,
   "id": "7c7e6f78-16a8-4c92-b83c-baa5261d9e9c",
   "metadata": {},
   "outputs": [],
   "source": [
    "from openai import OpenAI\n",
    "import os\n",
    "import pandas as pd"
   ]
  },
  {
   "cell_type": "markdown",
   "id": "652ae583-39ce-42f4-a278-4a5f61ef4681",
   "metadata": {},
   "source": [
    "### apikey"
   ]
  },
  {
   "cell_type": "code",
   "execution_count": 2,
   "id": "4fdb0a47-e9a9-486f-a94b-d751382421a6",
   "metadata": {},
   "outputs": [],
   "source": [
    "apikey = open('.apikey').read().strip()\n",
    "os.environ['OPENAI_API_KEY'] = apikey"
   ]
  },
  {
   "cell_type": "markdown",
   "id": "c778b6a8-18d6-4eb3-b3f6-012e13a6a32a",
   "metadata": {},
   "source": [
    "### prompts"
   ]
  },
  {
   "cell_type": "code",
   "execution_count": 20,
   "id": "ac0e2b43-ae99-472a-8418-1ad645ee71c1",
   "metadata": {},
   "outputs": [],
   "source": [
    "prompt_slide1 = \"Explain the rules of Ultimate Frisbee in a way that an expert Ultimate Frisbee player would explain them in one slide of a slideshow of Ultimate Frisbee. Narrow down into a number of steps.\"    \n",
    "\n",
    "prompt_slide2 = \"List the best brand clothes, shoes, and gear to buy as an expert Ultimate Frisbee Player into one slide in a slideshow about Ultimate Frisbee\"\n",
    "\n",
    "prompt_slide3 = \"List the best Ultimate Frisbee Leagues/Teams in the world or any Ultimate Frisbee Championships into one slide in a slideshow about Ultimate Frisbee\""
   ]
  },
  {
   "cell_type": "markdown",
   "id": "98936c92-3362-4ab9-ab6b-3524d7336b5f",
   "metadata": {},
   "source": [
    "## SLIDE 1"
   ]
  },
  {
   "cell_type": "markdown",
   "id": "0f2c8f68-307a-4ed4-bd92-abe904974545",
   "metadata": {},
   "source": [
    "### setting up gpt"
   ]
  },
  {
   "cell_type": "code",
   "execution_count": 13,
   "id": "9c92755b-67c5-4ec8-9611-2c074ee1e05e",
   "metadata": {},
   "outputs": [],
   "source": [
    "model = \"gpt-3.5-turbo\"\n",
    "system_role = \"You are an expert in Ultimate Frisbee\"\n",
    "\n",
    "\n",
    "initial_prompt = prompt_slide1 \n",
    "\n",
    "messages = [\n",
    "    {\"role\": \"system\", \"content\": system_role} ,\n",
    "    {\"role\": \"user\", \"content\": initial_prompt}]"
   ]
  },
  {
   "cell_type": "markdown",
   "id": "e71e89c8-6974-4bc4-b708-8cbb6bf0cd02",
   "metadata": {},
   "source": [
    "### calling response"
   ]
  },
  {
   "cell_type": "code",
   "execution_count": 14,
   "id": "b6d3b6be-dc42-4f19-ae61-2fb1ce21a0a4",
   "metadata": {},
   "outputs": [],
   "source": [
    "client = OpenAI()\n",
    "\n",
    "completion = client.chat.completions.create(\n",
    "  model=model,        # the model to use \n",
    "  messages=messages,  # a list of dictionaries with the prompt\n",
    "  n=1,                # how many responses to generate\n",
    "  temperature=0.7     # temperature parameter\n",
    ")\n",
    "\n",
    "response = completion.choices[0].message.content"
   ]
  },
  {
   "cell_type": "code",
   "execution_count": 15,
   "id": "acaba881-35fc-4ef4-becf-a67cf3cc9959",
   "metadata": {},
   "outputs": [
    {
     "name": "stdout",
     "output_type": "stream",
     "text": [
      "Slide 1: Rules of Ultimate Frisbee\n",
      "\n",
      "Step 1: Objective\n",
      "- The objective of Ultimate Frisbee is to score points by catching the disc in the opposing team's end zone.\n",
      "\n",
      "Step 2: Team Composition\n",
      "- Each team consists of 7 players on the field at a time.\n",
      "\n",
      "Step 3: Disc Movement\n",
      "- The disc can only be moved by passing it to a teammate. Players cannot run with the disc.\n",
      "\n",
      "Step 4: Scoring\n",
      "- A point is scored when a player catches the disc in the opposing team's end zone.\n",
      "\n",
      "Step 5: Turnovers\n",
      "- If a pass is incomplete, intercepted, or goes out of bounds, possession of the disc switches to the opposing team.\n",
      "\n",
      "Step 6: Stall Count\n",
      "- Players have 10 seconds to throw the disc. If they exceed this time, possession switches to the other team.\n",
      "\n",
      "Step 7: Spirit of the Game\n",
      "- Ultimate Frisbee is a self-officiated sport emphasizing sportsmanship and fair play. Players resolve disputes on the field without referees.\n",
      "\n",
      "Step 8: Game Format\n",
      "- Games are typically played to a certain score or time limit, with halftime and timeouts allowed.\n",
      "\n",
      "Step 9: Enjoy the game and have fun!\n"
     ]
    }
   ],
   "source": [
    "print(response)"
   ]
  },
  {
   "cell_type": "markdown",
   "id": "dbd54ad9-b92d-4adb-9f38-95f56c2cfbb7",
   "metadata": {},
   "source": [
    "## SLIDE 2"
   ]
  },
  {
   "cell_type": "code",
   "execution_count": 17,
   "id": "76333393-4c17-44a9-89c0-a18dccbc96bc",
   "metadata": {},
   "outputs": [],
   "source": [
    "model = \"gpt-3.5-turbo\"\n",
    "system_role = \"You are an expert in Ultimate Frisbee\"\n",
    "\n",
    "\n",
    "initial_prompt = prompt_slide2 \n",
    "\n",
    "messages = [\n",
    "    {\"role\": \"system\", \"content\": system_role} ,\n",
    "    {\"role\": \"user\", \"content\": initial_prompt}]"
   ]
  },
  {
   "cell_type": "code",
   "execution_count": 18,
   "id": "7d7449a6-15bd-48bc-b857-7ec6b35a09fa",
   "metadata": {},
   "outputs": [],
   "source": [
    "client = OpenAI()\n",
    "\n",
    "completion = client.chat.completions.create(\n",
    "  model=model,        # the model to use \n",
    "  messages=messages,  # a list of dictionaries with the prompt\n",
    "  n=1,                # how many responses to generate\n",
    "  temperature=0.7     # temperature parameter\n",
    ")\n",
    "\n",
    "response = completion.choices[0].message.content"
   ]
  },
  {
   "cell_type": "code",
   "execution_count": 19,
   "id": "837475ef-080d-47e1-8fbc-a8ba28b13d95",
   "metadata": {},
   "outputs": [
    {
     "name": "stdout",
     "output_type": "stream",
     "text": [
      "Slide Title: Ultimate Frisbee Gear Essentials\n",
      "\n",
      "1. Clothing:\n",
      "- Patagonia: Known for their durable and breathable materials, ideal for intense Ultimate Frisbee games.\n",
      "- Nike: Offers a wide range of performance wear for ultimate comfort and flexibility on the field.\n",
      "- Under Armour: Provides moisture-wicking technology to keep you dry and comfortable during play.\n",
      "\n",
      "2. Shoes:\n",
      "- Adidas: Offers a variety of cleats designed for quick cuts and traction on the field.\n",
      "- New Balance: Known for their lightweight and supportive cleats, perfect for agility and speed.\n",
      "- Asics: Provides stability and cushioning for those long hours of play.\n",
      "\n",
      "3. Gear:\n",
      "- Discraft: A popular choice for Ultimate Frisbee discs, known for their quality and durability.\n",
      "- Five Ultimate: Offers a range of customizable jerseys and shorts for a personalized team look.\n",
      "- Patagonia Black Hole Duffel Bag: Ideal for carrying all your gear to and from games, with plenty of space and compartments for organization.\n",
      "\n",
      "As an expert Ultimate Frisbee player, investing in high-quality gear can enhance your performance and overall experience on the field.\n"
     ]
    }
   ],
   "source": [
    "print(response)"
   ]
  },
  {
   "cell_type": "markdown",
   "id": "adc48c36-cfb6-4919-a9a0-921d219e6f4c",
   "metadata": {},
   "source": [
    "## SLIDE 3"
   ]
  },
  {
   "cell_type": "code",
   "execution_count": 21,
   "id": "5bc0caea-1572-4e62-8ac8-7b6acfc954ee",
   "metadata": {},
   "outputs": [],
   "source": [
    "model = \"gpt-3.5-turbo\"\n",
    "system_role = \"You are an expert in Ultimate Frisbee\"\n",
    "\n",
    "\n",
    "initial_prompt = prompt_slide3 \n",
    "\n",
    "messages = [\n",
    "    {\"role\": \"system\", \"content\": system_role} ,\n",
    "    {\"role\": \"user\", \"content\": initial_prompt}]"
   ]
  },
  {
   "cell_type": "code",
   "execution_count": 22,
   "id": "a8de9671-0d5a-4793-b01d-6d96ca2bdf4d",
   "metadata": {},
   "outputs": [],
   "source": [
    "client = OpenAI()\n",
    "\n",
    "completion = client.chat.completions.create(\n",
    "  model=model,        # the model to use \n",
    "  messages=messages,  # a list of dictionaries with the prompt\n",
    "  n=1,                # how many responses to generate\n",
    "  temperature=0.7     # temperature parameter\n",
    ")\n",
    "\n",
    "response = completion.choices[0].message.content"
   ]
  },
  {
   "cell_type": "code",
   "execution_count": 23,
   "id": "d699b4f6-9a7c-4804-9da5-89395d95bbbc",
   "metadata": {
    "scrolled": true
   },
   "outputs": [
    {
     "name": "stdout",
     "output_type": "stream",
     "text": [
      "Title: Top Ultimate Frisbee Leagues/Teams and Championships\n",
      "\n",
      "1. USA Ultimate: The governing body for the sport in the United States, USA Ultimate hosts national championships and oversees club teams like Seattle Sockeye and Boston Brute Squad.\n",
      "\n",
      "2. World Flying Disc Federation (WFDF): The international governing body for disc sports, WFDF organizes the World Ultimate Club Championships and World Ultimate and Guts Championships.\n",
      "\n",
      "3. Revolver (USA): One of the most dominant and successful club teams in the history of Ultimate Frisbee, based in San Francisco.\n",
      "\n",
      "4. Riot (USA): A powerhouse women's Ultimate Frisbee team based in Seattle, known for their competitive spirit and skill.\n",
      "\n",
      "5. Clapham Ultimate (UK): A top European club team based in London, known for their success in domestic and international competitions.\n",
      "\n",
      "6. Team Canada: Representing the country in international competitions, including the World Ultimate and Guts Championships.\n",
      "\n",
      "7. Doublewide (USA): A competitive men's club team based in Austin, Texas, with a strong presence in national tournaments.\n",
      "\n",
      "8. Fury (USA): A highly successful women's club team from San Francisco, known for their speed, agility, and teamwork.\n",
      "\n",
      "9. Heist (USA): A rising women's club team based in Madison, Wisconsin, making waves in national competitions.\n",
      "\n",
      "10. World Ultimate Club Championships (WUCC): The premier international club competition featuring top teams from around the globe competing for the title of world champion.\n"
     ]
    }
   ],
   "source": [
    "print(response)"
   ]
  }
 ],
 "metadata": {
  "citation-manager": {
   "items": {}
  },
  "kernelspec": {
   "display_name": "Python 3.11 (COMM4190)",
   "language": "python",
   "name": "comm4190"
  },
  "language_info": {
   "codemirror_mode": {
    "name": "ipython",
    "version": 3
   },
   "file_extension": ".py",
   "mimetype": "text/x-python",
   "name": "python",
   "nbconvert_exporter": "python",
   "pygments_lexer": "ipython3",
   "version": "3.11.7"
  }
 },
 "nbformat": 4,
 "nbformat_minor": 5
}
